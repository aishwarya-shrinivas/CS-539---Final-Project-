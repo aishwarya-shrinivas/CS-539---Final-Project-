{
  "nbformat": 4,
  "nbformat_minor": 0,
  "metadata": {
    "colab": {
      "name": "Copy of Untitled0.ipynb",
      "provenance": [],
      "collapsed_sections": [],
      "toc_visible": true
    },
    "kernelspec": {
      "name": "python3",
      "display_name": "Python 3"
    },
    "widgets": {
      "application/vnd.jupyter.widget-state+json": {
        "9101d2f691d5462da05e256f7730553d": {
          "model_module": "@jupyter-widgets/controls",
          "model_name": "VBoxModel",
          "state": {
            "_view_name": "VBoxView",
            "_dom_classes": [],
            "_model_name": "VBoxModel",
            "_view_module": "@jupyter-widgets/controls",
            "_model_module_version": "1.5.0",
            "_view_count": null,
            "_view_module_version": "1.5.0",
            "box_style": "",
            "layout": "IPY_MODEL_bf58dbc16953422c92e4cfa48e32f8d3",
            "_model_module": "@jupyter-widgets/controls",
            "children": [
              "IPY_MODEL_fa041f163c474c649f95eda8b29f2b1f",
              "IPY_MODEL_9daf938a536e4e93bbc140f9bd6177bd",
              "IPY_MODEL_9cee569156c542caa8a76918a8fb301f",
              "IPY_MODEL_8871abd29c4a4c4aae86dfb03fd3e8f3",
              "IPY_MODEL_36ad98e09be44bd2841eaf293e9d1d5a"
            ]
          }
        },
        "bf58dbc16953422c92e4cfa48e32f8d3": {
          "model_module": "@jupyter-widgets/base",
          "model_name": "LayoutModel",
          "state": {
            "_view_name": "LayoutView",
            "grid_template_rows": null,
            "right": null,
            "justify_content": null,
            "_view_module": "@jupyter-widgets/base",
            "overflow": null,
            "_model_module_version": "1.2.0",
            "_view_count": null,
            "flex_flow": null,
            "width": null,
            "min_width": null,
            "border": null,
            "align_items": null,
            "bottom": null,
            "_model_module": "@jupyter-widgets/base",
            "top": null,
            "grid_column": null,
            "overflow_y": null,
            "overflow_x": null,
            "grid_auto_flow": null,
            "grid_area": null,
            "grid_template_columns": null,
            "flex": null,
            "_model_name": "LayoutModel",
            "justify_items": null,
            "grid_row": null,
            "max_height": null,
            "align_content": null,
            "visibility": null,
            "align_self": null,
            "height": null,
            "min_height": null,
            "padding": null,
            "grid_auto_rows": null,
            "grid_gap": null,
            "max_width": null,
            "order": null,
            "_view_module_version": "1.2.0",
            "grid_template_areas": null,
            "object_position": null,
            "object_fit": null,
            "grid_auto_columns": null,
            "margin": null,
            "display": null,
            "left": null
          }
        },
        "fa041f163c474c649f95eda8b29f2b1f": {
          "model_module": "@jupyter-widgets/controls",
          "model_name": "LabelModel",
          "state": {
            "_view_name": "LabelView",
            "style": "IPY_MODEL_b22e5a8e7b2f423abf5e9fdae988ae64",
            "_dom_classes": [],
            "description": "",
            "_model_name": "LabelModel",
            "placeholder": "​",
            "_view_module": "@jupyter-widgets/controls",
            "_model_module_version": "1.5.0",
            "value": "Select image:",
            "_view_count": null,
            "_view_module_version": "1.5.0",
            "description_tooltip": null,
            "_model_module": "@jupyter-widgets/controls",
            "layout": "IPY_MODEL_39c20b2568214cd18da3322448883817"
          }
        },
        "9daf938a536e4e93bbc140f9bd6177bd": {
          "model_module": "@jupyter-widgets/controls",
          "model_name": "FileUploadModel",
          "state": {
            "_view_name": "FileUploadView",
            "_counter": 1,
            "style": "IPY_MODEL_483e22d55b674a248706bcd228a48150",
            "_dom_classes": [],
            "description": "Upload",
            "multiple": false,
            "_model_name": "FileUploadModel",
            "data": [
              null
            ],
            "button_style": "",
            "_view_module": "@jupyter-widgets/controls",
            "_model_module_version": "1.5.0",
            "accept": "",
            "_view_count": null,
            "disabled": false,
            "_view_module_version": "1.5.0",
            "error": "",
            "description_tooltip": null,
            "metadata": [
              {
                "name": "3 (1).jpg",
                "type": "image/jpeg",
                "size": 17162,
                "lastModified": 1607199263834
              }
            ],
            "_model_module": "@jupyter-widgets/controls",
            "layout": "IPY_MODEL_84dcac305dfa4c588132a356a16f14a1",
            "icon": "upload"
          }
        },
        "9cee569156c542caa8a76918a8fb301f": {
          "model_module": "@jupyter-widgets/controls",
          "model_name": "ButtonModel",
          "state": {
            "_view_name": "ButtonView",
            "style": "IPY_MODEL_9927783fc3c847ceabeae7815c5a7b44",
            "_dom_classes": [],
            "description": "Classify",
            "_model_name": "ButtonModel",
            "button_style": "",
            "_view_module": "@jupyter-widgets/controls",
            "_model_module_version": "1.5.0",
            "tooltip": "",
            "_view_count": null,
            "disabled": false,
            "_view_module_version": "1.5.0",
            "layout": "IPY_MODEL_2fdedb826de044c8b5b8b15fc07c72f4",
            "_model_module": "@jupyter-widgets/controls",
            "icon": ""
          }
        },
        "8871abd29c4a4c4aae86dfb03fd3e8f3": {
          "model_module": "@jupyter-widgets/output",
          "model_name": "OutputModel",
          "state": {
            "_view_name": "OutputView",
            "msg_id": "",
            "_dom_classes": [],
            "_model_name": "OutputModel",
            "outputs": [
              {
                "output_type": "display_data",
                "metadata": {
                  "tags": []
                },
                "image/png": "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\n",
                "text/plain": "<PIL.Image.Image image mode=RGB size=128x128 at 0x7FC5DC390F28>"
              }
            ],
            "_view_module": "@jupyter-widgets/output",
            "_model_module_version": "1.0.0",
            "_view_count": null,
            "_view_module_version": "1.0.0",
            "layout": "IPY_MODEL_78920dee3f7e49818471f02cf6af87df",
            "_model_module": "@jupyter-widgets/output"
          }
        },
        "36ad98e09be44bd2841eaf293e9d1d5a": {
          "model_module": "@jupyter-widgets/controls",
          "model_name": "LabelModel",
          "state": {
            "_view_name": "LabelView",
            "style": "IPY_MODEL_9016ff5c700442cf8b648d56c99e7188",
            "_dom_classes": [],
            "description": "",
            "_model_name": "LabelModel",
            "placeholder": "​",
            "_view_module": "@jupyter-widgets/controls",
            "_model_module_version": "1.5.0",
            "value": "Prediction: malignant; Probability: 1.0000",
            "_view_count": null,
            "_view_module_version": "1.5.0",
            "description_tooltip": null,
            "_model_module": "@jupyter-widgets/controls",
            "layout": "IPY_MODEL_2a43206972064fa8af919e488855a30a"
          }
        },
        "b22e5a8e7b2f423abf5e9fdae988ae64": {
          "model_module": "@jupyter-widgets/controls",
          "model_name": "DescriptionStyleModel",
          "state": {
            "_view_name": "StyleView",
            "_model_name": "DescriptionStyleModel",
            "description_width": "",
            "_view_module": "@jupyter-widgets/base",
            "_model_module_version": "1.5.0",
            "_view_count": null,
            "_view_module_version": "1.2.0",
            "_model_module": "@jupyter-widgets/controls"
          }
        },
        "39c20b2568214cd18da3322448883817": {
          "model_module": "@jupyter-widgets/base",
          "model_name": "LayoutModel",
          "state": {
            "_view_name": "LayoutView",
            "grid_template_rows": null,
            "right": null,
            "justify_content": null,
            "_view_module": "@jupyter-widgets/base",
            "overflow": null,
            "_model_module_version": "1.2.0",
            "_view_count": null,
            "flex_flow": null,
            "width": null,
            "min_width": null,
            "border": null,
            "align_items": null,
            "bottom": null,
            "_model_module": "@jupyter-widgets/base",
            "top": null,
            "grid_column": null,
            "overflow_y": null,
            "overflow_x": null,
            "grid_auto_flow": null,
            "grid_area": null,
            "grid_template_columns": null,
            "flex": null,
            "_model_name": "LayoutModel",
            "justify_items": null,
            "grid_row": null,
            "max_height": null,
            "align_content": null,
            "visibility": null,
            "align_self": null,
            "height": null,
            "min_height": null,
            "padding": null,
            "grid_auto_rows": null,
            "grid_gap": null,
            "max_width": null,
            "order": null,
            "_view_module_version": "1.2.0",
            "grid_template_areas": null,
            "object_position": null,
            "object_fit": null,
            "grid_auto_columns": null,
            "margin": null,
            "display": null,
            "left": null
          }
        },
        "483e22d55b674a248706bcd228a48150": {
          "model_module": "@jupyter-widgets/controls",
          "model_name": "ButtonStyleModel",
          "state": {
            "_view_name": "StyleView",
            "_model_name": "ButtonStyleModel",
            "_view_module": "@jupyter-widgets/base",
            "_model_module_version": "1.5.0",
            "_view_count": null,
            "button_color": null,
            "font_weight": "",
            "_view_module_version": "1.2.0",
            "_model_module": "@jupyter-widgets/controls"
          }
        },
        "84dcac305dfa4c588132a356a16f14a1": {
          "model_module": "@jupyter-widgets/base",
          "model_name": "LayoutModel",
          "state": {
            "_view_name": "LayoutView",
            "grid_template_rows": null,
            "right": null,
            "justify_content": null,
            "_view_module": "@jupyter-widgets/base",
            "overflow": null,
            "_model_module_version": "1.2.0",
            "_view_count": null,
            "flex_flow": null,
            "width": null,
            "min_width": null,
            "border": null,
            "align_items": null,
            "bottom": null,
            "_model_module": "@jupyter-widgets/base",
            "top": null,
            "grid_column": null,
            "overflow_y": null,
            "overflow_x": null,
            "grid_auto_flow": null,
            "grid_area": null,
            "grid_template_columns": null,
            "flex": null,
            "_model_name": "LayoutModel",
            "justify_items": null,
            "grid_row": null,
            "max_height": null,
            "align_content": null,
            "visibility": null,
            "align_self": null,
            "height": null,
            "min_height": null,
            "padding": null,
            "grid_auto_rows": null,
            "grid_gap": null,
            "max_width": null,
            "order": null,
            "_view_module_version": "1.2.0",
            "grid_template_areas": null,
            "object_position": null,
            "object_fit": null,
            "grid_auto_columns": null,
            "margin": null,
            "display": null,
            "left": null
          }
        },
        "9927783fc3c847ceabeae7815c5a7b44": {
          "model_module": "@jupyter-widgets/controls",
          "model_name": "ButtonStyleModel",
          "state": {
            "_view_name": "StyleView",
            "_model_name": "ButtonStyleModel",
            "_view_module": "@jupyter-widgets/base",
            "_model_module_version": "1.5.0",
            "_view_count": null,
            "button_color": null,
            "font_weight": "",
            "_view_module_version": "1.2.0",
            "_model_module": "@jupyter-widgets/controls"
          }
        },
        "2fdedb826de044c8b5b8b15fc07c72f4": {
          "model_module": "@jupyter-widgets/base",
          "model_name": "LayoutModel",
          "state": {
            "_view_name": "LayoutView",
            "grid_template_rows": null,
            "right": null,
            "justify_content": null,
            "_view_module": "@jupyter-widgets/base",
            "overflow": null,
            "_model_module_version": "1.2.0",
            "_view_count": null,
            "flex_flow": null,
            "width": null,
            "min_width": null,
            "border": null,
            "align_items": null,
            "bottom": null,
            "_model_module": "@jupyter-widgets/base",
            "top": null,
            "grid_column": null,
            "overflow_y": null,
            "overflow_x": null,
            "grid_auto_flow": null,
            "grid_area": null,
            "grid_template_columns": null,
            "flex": null,
            "_model_name": "LayoutModel",
            "justify_items": null,
            "grid_row": null,
            "max_height": null,
            "align_content": null,
            "visibility": null,
            "align_self": null,
            "height": null,
            "min_height": null,
            "padding": null,
            "grid_auto_rows": null,
            "grid_gap": null,
            "max_width": null,
            "order": null,
            "_view_module_version": "1.2.0",
            "grid_template_areas": null,
            "object_position": null,
            "object_fit": null,
            "grid_auto_columns": null,
            "margin": null,
            "display": null,
            "left": null
          }
        },
        "9016ff5c700442cf8b648d56c99e7188": {
          "model_module": "@jupyter-widgets/controls",
          "model_name": "DescriptionStyleModel",
          "state": {
            "_view_name": "StyleView",
            "_model_name": "DescriptionStyleModel",
            "description_width": "",
            "_view_module": "@jupyter-widgets/base",
            "_model_module_version": "1.5.0",
            "_view_count": null,
            "_view_module_version": "1.2.0",
            "_model_module": "@jupyter-widgets/controls"
          }
        },
        "2a43206972064fa8af919e488855a30a": {
          "model_module": "@jupyter-widgets/base",
          "model_name": "LayoutModel",
          "state": {
            "_view_name": "LayoutView",
            "grid_template_rows": null,
            "right": null,
            "justify_content": null,
            "_view_module": "@jupyter-widgets/base",
            "overflow": null,
            "_model_module_version": "1.2.0",
            "_view_count": null,
            "flex_flow": null,
            "width": null,
            "min_width": null,
            "border": null,
            "align_items": null,
            "bottom": null,
            "_model_module": "@jupyter-widgets/base",
            "top": null,
            "grid_column": null,
            "overflow_y": null,
            "overflow_x": null,
            "grid_auto_flow": null,
            "grid_area": null,
            "grid_template_columns": null,
            "flex": null,
            "_model_name": "LayoutModel",
            "justify_items": null,
            "grid_row": null,
            "max_height": null,
            "align_content": null,
            "visibility": null,
            "align_self": null,
            "height": null,
            "min_height": null,
            "padding": null,
            "grid_auto_rows": null,
            "grid_gap": null,
            "max_width": null,
            "order": null,
            "_view_module_version": "1.2.0",
            "grid_template_areas": null,
            "object_position": null,
            "object_fit": null,
            "grid_auto_columns": null,
            "margin": null,
            "display": null,
            "left": null
          }
        },
        "78920dee3f7e49818471f02cf6af87df": {
          "model_module": "@jupyter-widgets/base",
          "model_name": "LayoutModel",
          "state": {
            "_view_name": "LayoutView",
            "grid_template_rows": null,
            "right": null,
            "justify_content": null,
            "_view_module": "@jupyter-widgets/base",
            "overflow": null,
            "_model_module_version": "1.2.0",
            "_view_count": null,
            "flex_flow": null,
            "width": null,
            "min_width": null,
            "border": null,
            "align_items": null,
            "bottom": null,
            "_model_module": "@jupyter-widgets/base",
            "top": null,
            "grid_column": null,
            "overflow_y": null,
            "overflow_x": null,
            "grid_auto_flow": null,
            "grid_area": null,
            "grid_template_columns": null,
            "flex": null,
            "_model_name": "LayoutModel",
            "justify_items": null,
            "grid_row": null,
            "max_height": null,
            "align_content": null,
            "visibility": null,
            "align_self": null,
            "height": null,
            "min_height": null,
            "padding": null,
            "grid_auto_rows": null,
            "grid_gap": null,
            "max_width": null,
            "order": null,
            "_view_module_version": "1.2.0",
            "grid_template_areas": null,
            "object_position": null,
            "object_fit": null,
            "grid_auto_columns": null,
            "margin": null,
            "display": null,
            "left": null
          }
        }
      }
    }
  },
  "cells": [
    {
      "cell_type": "code",
      "metadata": {
        "id": "koKIX-RNfCJ8"
      },
      "source": [
        "import fastbook\n",
        "from fastai.vision.widgets import *\n",
        "from fastbook import *\n",
        "from fastai.vision.all import *\n",
        "fastbook.setup_book()\n",
        "#drive.mount('/content/drive', force_remount=True)"
      ],
      "execution_count": null,
      "outputs": []
    },
    {
      "cell_type": "code",
      "metadata": {
        "colab": {
          "base_uri": "https://localhost:8080/",
          "height": 273,
          "referenced_widgets": [
            "9101d2f691d5462da05e256f7730553d",
            "bf58dbc16953422c92e4cfa48e32f8d3",
            "fa041f163c474c649f95eda8b29f2b1f",
            "9daf938a536e4e93bbc140f9bd6177bd",
            "9cee569156c542caa8a76918a8fb301f",
            "8871abd29c4a4c4aae86dfb03fd3e8f3",
            "36ad98e09be44bd2841eaf293e9d1d5a",
            "b22e5a8e7b2f423abf5e9fdae988ae64",
            "39c20b2568214cd18da3322448883817",
            "483e22d55b674a248706bcd228a48150",
            "84dcac305dfa4c588132a356a16f14a1",
            "9927783fc3c847ceabeae7815c5a7b44",
            "2fdedb826de044c8b5b8b15fc07c72f4",
            "9016ff5c700442cf8b648d56c99e7188",
            "2a43206972064fa8af919e488855a30a",
            "78920dee3f7e49818471f02cf6af87df"
          ]
        },
        "id": "VqADXPkHhnj-",
        "outputId": "fe1bcde1-b66a-4399-8bb6-637a1701ca40"
      },
      "source": [
        "\n",
        "learn_inf = load_learner(path+'models/ResNet50.pkl')\n",
        "pred,pred_idx,probs = learn_inf.predict(img)\n",
        "lbl_pred = widgets.Label()\n",
        "lbl_pred.value = f'Prediction: {pred}; Probability: {probs[pred_idx]:.04f}'\n",
        "btn_run = widgets.Button(description='Classify')\n",
        "def on_click_classify(change):\n",
        "    img = PILImage.create(btn_upload.data[-1])\n",
        "    out_pl.clear_output()\n",
        "    with out_pl: display(img.to_thumb(128,128))\n",
        "    pred,pred_idx,probs = learn_inf.predict(img)\n",
        "    lbl_pred.value = f'Prediction: {pred}; Probability: {probs[pred_idx]:.04f}'\n",
        "\n",
        "btn_run.on_click(on_click_classify)\n",
        "btn_upload = widgets.FileUpload()\n",
        "VBox([widgets.Label('Select image:'), \n",
        "      btn_upload, btn_run, out_pl, lbl_pred])"
      ],
      "execution_count": 9,
      "outputs": [
        {
          "output_type": "display_data",
          "data": {
            "text/html": [
              ""
            ],
            "text/plain": [
              "<IPython.core.display.HTML object>"
            ]
          },
          "metadata": {
            "tags": []
          }
        },
        {
          "output_type": "display_data",
          "data": {
            "application/vnd.jupyter.widget-view+json": {
              "model_id": "9101d2f691d5462da05e256f7730553d",
              "version_minor": 0,
              "version_major": 2
            },
            "text/plain": [
              "VBox(children=(Label(value='Select image:'), FileUpload(value={}, description='Upload'), Button(description='C…"
            ]
          },
          "metadata": {
            "tags": []
          }
        },
        {
          "output_type": "display_data",
          "data": {
            "text/html": [
              ""
            ],
            "text/plain": [
              "<IPython.core.display.HTML object>"
            ]
          },
          "metadata": {
            "tags": []
          }
        }
      ]
    }
  ]
}
