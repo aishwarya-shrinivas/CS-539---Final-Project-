{
  "nbformat": 4,
  "nbformat_minor": 0,
  "metadata": {
    "colab": {
      "name": "Copy of Untitled0.ipynb",
      "provenance": [],
      "collapsed_sections": [],
      "toc_visible": true
    },
    "kernelspec": {
      "name": "python3",
      "display_name": "Python 3"
    },
    "widgets": {
      "application/vnd.jupyter.widget-state+json": {
        "468587273433413992c53e7eb72e78b0": {
          "model_module": "@jupyter-widgets/controls",
          "model_name": "VBoxModel",
          "state": {
            "_view_name": "VBoxView",
            "_dom_classes": [],
            "_model_name": "VBoxModel",
            "_view_module": "@jupyter-widgets/controls",
            "_model_module_version": "1.5.0",
            "_view_count": null,
            "_view_module_version": "1.5.0",
            "box_style": "",
            "layout": "IPY_MODEL_dace394e9d994cb7b2185dd596cc9745",
            "_model_module": "@jupyter-widgets/controls",
            "children": [
              "IPY_MODEL_0284b016709649d193798133f5ea3ac6",
              "IPY_MODEL_d2ef5294417849278e17eec735cbad1d",
              "IPY_MODEL_d1b99884ad634f4bb8247b597b8e7433",
              "IPY_MODEL_5012a4f865e24407ada19197ff6fc5fd",
              "IPY_MODEL_5cd7cc49f8dc43b2a4e891fa4e5e1fd0"
            ]
          }
        },
        "dace394e9d994cb7b2185dd596cc9745": {
          "model_module": "@jupyter-widgets/base",
          "model_name": "LayoutModel",
          "state": {
            "_view_name": "LayoutView",
            "grid_template_rows": null,
            "right": null,
            "justify_content": null,
            "_view_module": "@jupyter-widgets/base",
            "overflow": null,
            "_model_module_version": "1.2.0",
            "_view_count": null,
            "flex_flow": null,
            "width": null,
            "min_width": null,
            "border": null,
            "align_items": null,
            "bottom": null,
            "_model_module": "@jupyter-widgets/base",
            "top": null,
            "grid_column": null,
            "overflow_y": null,
            "overflow_x": null,
            "grid_auto_flow": null,
            "grid_area": null,
            "grid_template_columns": null,
            "flex": null,
            "_model_name": "LayoutModel",
            "justify_items": null,
            "grid_row": null,
            "max_height": null,
            "align_content": null,
            "visibility": null,
            "align_self": null,
            "height": null,
            "min_height": null,
            "padding": null,
            "grid_auto_rows": null,
            "grid_gap": null,
            "max_width": null,
            "order": null,
            "_view_module_version": "1.2.0",
            "grid_template_areas": null,
            "object_position": null,
            "object_fit": null,
            "grid_auto_columns": null,
            "margin": null,
            "display": null,
            "left": null
          }
        },
        "0284b016709649d193798133f5ea3ac6": {
          "model_module": "@jupyter-widgets/controls",
          "model_name": "LabelModel",
          "state": {
            "_view_name": "LabelView",
            "style": "IPY_MODEL_e039308e175d43e88054f150c16621dd",
            "_dom_classes": [],
            "description": "",
            "_model_name": "LabelModel",
            "placeholder": "​",
            "_view_module": "@jupyter-widgets/controls",
            "_model_module_version": "1.5.0",
            "value": "Select image:",
            "_view_count": null,
            "_view_module_version": "1.5.0",
            "description_tooltip": null,
            "_model_module": "@jupyter-widgets/controls",
            "layout": "IPY_MODEL_b92569ff46e8461c87c9348e6e99b1d8"
          }
        },
        "d2ef5294417849278e17eec735cbad1d": {
          "model_module": "@jupyter-widgets/controls",
          "model_name": "FileUploadModel",
          "state": {
            "_view_name": "FileUploadView",
            "_counter": 1,
            "style": "IPY_MODEL_4acc703991ee4f96aeeb41ece719bc93",
            "_dom_classes": [],
            "description": "Upload",
            "multiple": false,
            "_model_name": "FileUploadModel",
            "data": [
              null
            ],
            "button_style": "",
            "_view_module": "@jupyter-widgets/controls",
            "_model_module_version": "1.5.0",
            "accept": "",
            "_view_count": null,
            "disabled": false,
            "_view_module_version": "1.5.0",
            "error": "",
            "description_tooltip": null,
            "metadata": [
              {
                "name": "img_15.jpg",
                "type": "image/jpeg",
                "size": 15329,
                "lastModified": 1606698902000
              }
            ],
            "_model_module": "@jupyter-widgets/controls",
            "layout": "IPY_MODEL_cdf791dac0834691b0e600348b0200f9",
            "icon": "upload"
          }
        },
        "d1b99884ad634f4bb8247b597b8e7433": {
          "model_module": "@jupyter-widgets/controls",
          "model_name": "ButtonModel",
          "state": {
            "_view_name": "ButtonView",
            "style": "IPY_MODEL_cbd934a0c7e84caf8e1f8b28750a799b",
            "_dom_classes": [],
            "description": "Classify",
            "_model_name": "ButtonModel",
            "button_style": "",
            "_view_module": "@jupyter-widgets/controls",
            "_model_module_version": "1.5.0",
            "tooltip": "",
            "_view_count": null,
            "disabled": false,
            "_view_module_version": "1.5.0",
            "layout": "IPY_MODEL_6db75adb754f4728a0d2b22356d4c1a8",
            "_model_module": "@jupyter-widgets/controls",
            "icon": ""
          }
        },
        "5012a4f865e24407ada19197ff6fc5fd": {
          "model_module": "@jupyter-widgets/output",
          "model_name": "OutputModel",
          "state": {
            "_view_name": "OutputView",
            "msg_id": "",
            "_dom_classes": [],
            "_model_name": "OutputModel",
            "outputs": [
              {
                "output_type": "display_data",
                "metadata": {
                  "tags": []
                },
                "image/png": "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\n",
                "text/plain": "<PIL.Image.Image image mode=RGB size=128x128 at 0x7F4CA496B7B8>"
              }
            ],
            "_view_module": "@jupyter-widgets/output",
            "_model_module_version": "1.0.0",
            "_view_count": null,
            "_view_module_version": "1.0.0",
            "layout": "IPY_MODEL_6a0fc3fffefa41378c1adef7e0376a2f",
            "_model_module": "@jupyter-widgets/output"
          }
        },
        "5cd7cc49f8dc43b2a4e891fa4e5e1fd0": {
          "model_module": "@jupyter-widgets/controls",
          "model_name": "HTMLModel",
          "state": {
            "_view_name": "HTMLView",
            "style": "IPY_MODEL_8ad5f209a37f4aba98e34ac5e5b83096",
            "_dom_classes": [],
            "description": "",
            "_model_name": "HTMLModel",
            "placeholder": "​",
            "_view_module": "@jupyter-widgets/controls",
            "_model_module_version": "1.5.0",
            "value": "ResNet50 Prediction: malignant; Probability: 1.0000<BR>SqueezeNet Prediction: malignant; Probability: 0.9980<BR>VGG16 Prediction: malignant; Probability: 0.9865",
            "_view_count": null,
            "_view_module_version": "1.5.0",
            "description_tooltip": null,
            "_model_module": "@jupyter-widgets/controls",
            "layout": "IPY_MODEL_f15bddce03bc4d679df030a4bb32b813"
          }
        },
        "e039308e175d43e88054f150c16621dd": {
          "model_module": "@jupyter-widgets/controls",
          "model_name": "DescriptionStyleModel",
          "state": {
            "_view_name": "StyleView",
            "_model_name": "DescriptionStyleModel",
            "description_width": "",
            "_view_module": "@jupyter-widgets/base",
            "_model_module_version": "1.5.0",
            "_view_count": null,
            "_view_module_version": "1.2.0",
            "_model_module": "@jupyter-widgets/controls"
          }
        },
        "b92569ff46e8461c87c9348e6e99b1d8": {
          "model_module": "@jupyter-widgets/base",
          "model_name": "LayoutModel",
          "state": {
            "_view_name": "LayoutView",
            "grid_template_rows": null,
            "right": null,
            "justify_content": null,
            "_view_module": "@jupyter-widgets/base",
            "overflow": null,
            "_model_module_version": "1.2.0",
            "_view_count": null,
            "flex_flow": null,
            "width": null,
            "min_width": null,
            "border": null,
            "align_items": null,
            "bottom": null,
            "_model_module": "@jupyter-widgets/base",
            "top": null,
            "grid_column": null,
            "overflow_y": null,
            "overflow_x": null,
            "grid_auto_flow": null,
            "grid_area": null,
            "grid_template_columns": null,
            "flex": null,
            "_model_name": "LayoutModel",
            "justify_items": null,
            "grid_row": null,
            "max_height": null,
            "align_content": null,
            "visibility": null,
            "align_self": null,
            "height": null,
            "min_height": null,
            "padding": null,
            "grid_auto_rows": null,
            "grid_gap": null,
            "max_width": null,
            "order": null,
            "_view_module_version": "1.2.0",
            "grid_template_areas": null,
            "object_position": null,
            "object_fit": null,
            "grid_auto_columns": null,
            "margin": null,
            "display": null,
            "left": null
          }
        },
        "4acc703991ee4f96aeeb41ece719bc93": {
          "model_module": "@jupyter-widgets/controls",
          "model_name": "ButtonStyleModel",
          "state": {
            "_view_name": "StyleView",
            "_model_name": "ButtonStyleModel",
            "_view_module": "@jupyter-widgets/base",
            "_model_module_version": "1.5.0",
            "_view_count": null,
            "button_color": null,
            "font_weight": "",
            "_view_module_version": "1.2.0",
            "_model_module": "@jupyter-widgets/controls"
          }
        },
        "cdf791dac0834691b0e600348b0200f9": {
          "model_module": "@jupyter-widgets/base",
          "model_name": "LayoutModel",
          "state": {
            "_view_name": "LayoutView",
            "grid_template_rows": null,
            "right": null,
            "justify_content": null,
            "_view_module": "@jupyter-widgets/base",
            "overflow": null,
            "_model_module_version": "1.2.0",
            "_view_count": null,
            "flex_flow": null,
            "width": null,
            "min_width": null,
            "border": null,
            "align_items": null,
            "bottom": null,
            "_model_module": "@jupyter-widgets/base",
            "top": null,
            "grid_column": null,
            "overflow_y": null,
            "overflow_x": null,
            "grid_auto_flow": null,
            "grid_area": null,
            "grid_template_columns": null,
            "flex": null,
            "_model_name": "LayoutModel",
            "justify_items": null,
            "grid_row": null,
            "max_height": null,
            "align_content": null,
            "visibility": null,
            "align_self": null,
            "height": null,
            "min_height": null,
            "padding": null,
            "grid_auto_rows": null,
            "grid_gap": null,
            "max_width": null,
            "order": null,
            "_view_module_version": "1.2.0",
            "grid_template_areas": null,
            "object_position": null,
            "object_fit": null,
            "grid_auto_columns": null,
            "margin": null,
            "display": null,
            "left": null
          }
        },
        "cbd934a0c7e84caf8e1f8b28750a799b": {
          "model_module": "@jupyter-widgets/controls",
          "model_name": "ButtonStyleModel",
          "state": {
            "_view_name": "StyleView",
            "_model_name": "ButtonStyleModel",
            "_view_module": "@jupyter-widgets/base",
            "_model_module_version": "1.5.0",
            "_view_count": null,
            "button_color": null,
            "font_weight": "",
            "_view_module_version": "1.2.0",
            "_model_module": "@jupyter-widgets/controls"
          }
        },
        "6db75adb754f4728a0d2b22356d4c1a8": {
          "model_module": "@jupyter-widgets/base",
          "model_name": "LayoutModel",
          "state": {
            "_view_name": "LayoutView",
            "grid_template_rows": null,
            "right": null,
            "justify_content": null,
            "_view_module": "@jupyter-widgets/base",
            "overflow": null,
            "_model_module_version": "1.2.0",
            "_view_count": null,
            "flex_flow": null,
            "width": null,
            "min_width": null,
            "border": null,
            "align_items": null,
            "bottom": null,
            "_model_module": "@jupyter-widgets/base",
            "top": null,
            "grid_column": null,
            "overflow_y": null,
            "overflow_x": null,
            "grid_auto_flow": null,
            "grid_area": null,
            "grid_template_columns": null,
            "flex": null,
            "_model_name": "LayoutModel",
            "justify_items": null,
            "grid_row": null,
            "max_height": null,
            "align_content": null,
            "visibility": null,
            "align_self": null,
            "height": null,
            "min_height": null,
            "padding": null,
            "grid_auto_rows": null,
            "grid_gap": null,
            "max_width": null,
            "order": null,
            "_view_module_version": "1.2.0",
            "grid_template_areas": null,
            "object_position": null,
            "object_fit": null,
            "grid_auto_columns": null,
            "margin": null,
            "display": null,
            "left": null
          }
        },
        "8ad5f209a37f4aba98e34ac5e5b83096": {
          "model_module": "@jupyter-widgets/controls",
          "model_name": "DescriptionStyleModel",
          "state": {
            "_view_name": "StyleView",
            "_model_name": "DescriptionStyleModel",
            "description_width": "",
            "_view_module": "@jupyter-widgets/base",
            "_model_module_version": "1.5.0",
            "_view_count": null,
            "_view_module_version": "1.2.0",
            "_model_module": "@jupyter-widgets/controls"
          }
        },
        "f15bddce03bc4d679df030a4bb32b813": {
          "model_module": "@jupyter-widgets/base",
          "model_name": "LayoutModel",
          "state": {
            "_view_name": "LayoutView",
            "grid_template_rows": null,
            "right": null,
            "justify_content": null,
            "_view_module": "@jupyter-widgets/base",
            "overflow": null,
            "_model_module_version": "1.2.0",
            "_view_count": null,
            "flex_flow": null,
            "width": null,
            "min_width": null,
            "border": null,
            "align_items": null,
            "bottom": null,
            "_model_module": "@jupyter-widgets/base",
            "top": null,
            "grid_column": null,
            "overflow_y": null,
            "overflow_x": null,
            "grid_auto_flow": null,
            "grid_area": null,
            "grid_template_columns": null,
            "flex": null,
            "_model_name": "LayoutModel",
            "justify_items": null,
            "grid_row": null,
            "max_height": null,
            "align_content": null,
            "visibility": null,
            "align_self": null,
            "height": null,
            "min_height": null,
            "padding": null,
            "grid_auto_rows": null,
            "grid_gap": null,
            "max_width": null,
            "order": null,
            "_view_module_version": "1.2.0",
            "grid_template_areas": null,
            "object_position": null,
            "object_fit": null,
            "grid_auto_columns": null,
            "margin": null,
            "display": null,
            "left": null
          }
        },
        "6a0fc3fffefa41378c1adef7e0376a2f": {
          "model_module": "@jupyter-widgets/base",
          "model_name": "LayoutModel",
          "state": {
            "_view_name": "LayoutView",
            "grid_template_rows": null,
            "right": null,
            "justify_content": null,
            "_view_module": "@jupyter-widgets/base",
            "overflow": null,
            "_model_module_version": "1.2.0",
            "_view_count": null,
            "flex_flow": null,
            "width": null,
            "min_width": null,
            "border": null,
            "align_items": null,
            "bottom": null,
            "_model_module": "@jupyter-widgets/base",
            "top": null,
            "grid_column": null,
            "overflow_y": null,
            "overflow_x": null,
            "grid_auto_flow": null,
            "grid_area": null,
            "grid_template_columns": null,
            "flex": null,
            "_model_name": "LayoutModel",
            "justify_items": null,
            "grid_row": null,
            "max_height": null,
            "align_content": null,
            "visibility": null,
            "align_self": null,
            "height": null,
            "min_height": null,
            "padding": null,
            "grid_auto_rows": null,
            "grid_gap": null,
            "max_width": null,
            "order": null,
            "_view_module_version": "1.2.0",
            "grid_template_areas": null,
            "object_position": null,
            "object_fit": null,
            "grid_auto_columns": null,
            "margin": null,
            "display": null,
            "left": null
          }
        }
      }
    }
  },
  "cells": [
    {
      "cell_type": "code",
      "metadata": {
        "id": "koKIX-RNfCJ8"
      },
      "source": [
        "from fastai.vision.widgets import *\n",
        "from fastai.vision.all import *\n",
        "#from efficientnet_pytorch import *\n",
        "path=\"models/\""
      ],
      "execution_count": 43,
      "outputs": []
    },
    {
      "cell_type": "code",
      "metadata": {
        "id": "KBp2iNFNxe6q"
      },
      "source": [
        "learn_inf_resnet = load_learner(path+'ResNet50.pkl')"
      ],
      "execution_count": 2,
      "outputs": []
    },
    {
      "cell_type": "code",
      "metadata": {
        "id": "fMbg1XrqCRox"
      },
      "source": [
        "learn_inf_squeeze = load_learner(path+'squeezenet1_1.pkl')"
      ],
      "execution_count": 6,
      "outputs": []
    },
    {
      "cell_type": "code",
      "metadata": {
        "id": "sU9Lcw94EILJ"
      },
      "source": [
        "learn_inf_vgg16 = load_learner(path+'vgg16.pkl')"
      ],
      "execution_count": 25,
      "outputs": []
    },
    {
      "cell_type": "code",
      "metadata": {
        "id": "rqMtKhgtxhFT"
      },
      "source": [
        "lbl_pred = widgets.HTML()\n",
        "btn_run = widgets.Button(description='Classify')\n",
        "out_pl = widgets.Output()"
      ],
      "execution_count": 44,
      "outputs": []
    },
    {
      "cell_type": "code",
      "metadata": {
        "id": "A5Yqxd_oxlYg"
      },
      "source": [
        "def on_click_classify(change):\n",
        "    img = PILImage.create(btn_upload.data[-1])\n",
        "    out_pl.clear_output()\n",
        "    with out_pl: display(img.to_thumb(128,128))\n",
        "    pred,pred_idx,probs = learn_inf_resnet.predict(img)\n",
        "    lbl_pred.value = f'ResNet50 Prediction: {pred}; Probability: {probs[pred_idx]:.04f}<BR>'\n",
        "    pred,pred_idx,probs = learn_inf_squeeze.predict(img)\n",
        "    lbl_pred.value += f'SqueezeNet Prediction: {pred}; Probability: {probs[pred_idx]:.04f}<BR>'\n",
        "    pred,pred_idx,probs = learn_inf_vgg16.predict(img)\n",
        "    lbl_pred.value += f'VGG16 Prediction: {pred}; Probability: {probs[pred_idx]:.04f}'"
      ],
      "execution_count": 45,
      "outputs": []
    },
    {
      "cell_type": "code",
      "metadata": {
        "colab": {
          "base_uri": "https://localhost:8080/",
          "height": 329,
          "referenced_widgets": [
            "468587273433413992c53e7eb72e78b0",
            "dace394e9d994cb7b2185dd596cc9745",
            "0284b016709649d193798133f5ea3ac6",
            "d2ef5294417849278e17eec735cbad1d",
            "d1b99884ad634f4bb8247b597b8e7433",
            "5012a4f865e24407ada19197ff6fc5fd",
            "5cd7cc49f8dc43b2a4e891fa4e5e1fd0",
            "e039308e175d43e88054f150c16621dd",
            "b92569ff46e8461c87c9348e6e99b1d8",
            "4acc703991ee4f96aeeb41ece719bc93",
            "cdf791dac0834691b0e600348b0200f9",
            "cbd934a0c7e84caf8e1f8b28750a799b",
            "6db75adb754f4728a0d2b22356d4c1a8",
            "8ad5f209a37f4aba98e34ac5e5b83096",
            "f15bddce03bc4d679df030a4bb32b813",
            "6a0fc3fffefa41378c1adef7e0376a2f"
          ]
        },
        "id": "8C6249gnxqwz",
        "outputId": "28105bb1-e80d-4e78-b152-522a6a61951a"
      },
      "source": [
        "btn_run.on_click(on_click_classify)\n",
        "btn_upload = widgets.FileUpload()\n",
        "img = \"\"\n",
        "display(VBox([widgets.Label('Select image:'), \n",
        "      btn_upload, btn_run, out_pl, lbl_pred]))"
      ],
      "execution_count": 46,
      "outputs": [
        {
          "output_type": "display_data",
          "data": {
            "application/vnd.jupyter.widget-view+json": {
              "model_id": "468587273433413992c53e7eb72e78b0",
              "version_minor": 0,
              "version_major": 2
            },
            "text/plain": [
              "VBox(children=(Label(value='Select image:'), FileUpload(value={}, description='Upload'), Button(description='C…"
            ]
          },
          "metadata": {
            "tags": []
          }
        },
        {
          "output_type": "display_data",
          "data": {
            "text/html": [
              ""
            ],
            "text/plain": [
              "<IPython.core.display.HTML object>"
            ]
          },
          "metadata": {
            "tags": []
          }
        },
        {
          "output_type": "display_data",
          "data": {
            "text/html": [
              ""
            ],
            "text/plain": [
              "<IPython.core.display.HTML object>"
            ]
          },
          "metadata": {
            "tags": []
          }
        },
        {
          "output_type": "display_data",
          "data": {
            "text/html": [
              ""
            ],
            "text/plain": [
              "<IPython.core.display.HTML object>"
            ]
          },
          "metadata": {
            "tags": []
          }
        }
      ]
    }
  ]
}